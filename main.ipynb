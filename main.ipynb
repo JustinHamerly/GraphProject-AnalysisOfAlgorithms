{
 "cells": [
  {
   "cell_type": "code",
   "execution_count": 1,
   "metadata": {},
   "outputs": [],
   "source": [
    "from util.graph import generate_graph"
   ]
  },
  {
   "cell_type": "code",
   "execution_count": 2,
   "metadata": {},
   "outputs": [],
   "source": [
    "min_nodes = 6\n",
    "min_edges = 7\n",
    "\n",
    "desserts = [\n",
    "        \"Tiramisu\", \"Baklava\", \"Churros\", \"Mochi\", \"Gulab Jamun\", \"Creme Brulee\", \"Pavlova\", \"Cheesecake\", \"Macarons\", \"Apple Pie\",\n",
    "        \"Flan\", \"Panna Cotta\", \"Cannoli\", \"Doughnuts\", \"Chocolate Lava Cake\", \"Strawberry Shortcake\", \"Sacher Torte\", \"Knafeh\", \"Profiteroles\", \"Lamington\",\n",
    "        \"Fudge\", \"Rice Pudding\", \"Coconut Macaroons\", \"Black Forest Cake\", \"Pineapple Upside-Down Cake\", \"Baked Alaska\", \"Banoffee Pie\", \"Tres Leches Cake\", \"Chocolat Viennois\",\n",
    "        \"Biscoff Cheesecake\", \"Zabaglione\", \"Sweetsop\", \"Palmiers\", \"Turkish Delight\", \"Marzipan\", \"Tarte Tatin\", \"Carrot Cake\", \"Scones\", \"Kardinalschnitten\",\n",
    "        \"Chocolates\", \"Lemon Meringue Pie\", \"Mille-feuille\", \"Semifreddo\", \"Chia Pudding\", \"Rugelach\", \"Pavlova\", \"Arroz con Leche\", \"Poffertjes\", \"Chocolate Eclairs\",\n",
    "        \"Lassi\", \"Mango Sticky Rice\", \"Chocolat Chaud\", \"Cinnamon Rolls\", \"Bavarian Cream\", \"Poached Pears in Red Wine\", \"Baked Donuts\", \"Chia Seed Pudding\", \"Kue Cubir\",\n",
    "        \"Macaroons\", \"Torte di Mele\", \"Banana Foster\", \"Alfajores\", \"Açai Bowl\", \"Raisin Cake\", \"Pumpkin Pie\", \"Nutella Crepes\", \"Rava Kesari\", \"Eton Mess\",\n",
    "        \"Cinnamon Sugar Pretzels\", \"Pineapple Cake\", \"Mont Blanc\", \"Trifle\", \"French Toast\", \"Kue Cubir\", \"Baklava\", \"Choco Pie\", \"Gâteau Basque\", \"Joffre\",\n",
    "        \"Turon\", \"Gingerbread Cookies\", \"Gâteau Saint-Honoré\", \"Churro Ice Cream Sandwich\", \"Crêpes Suzette\", \"Hazelnut Cake\", \"Clafoutis\", \"Tapioca Pudding\", \"Kue Cubir\",\n",
    "        \"Peach Cobbler\", \"Pav Bhaji\", \"Taffy\", \"Chocolate Soufflé\", \"Coconut Cake\", \"Streusel Cake\", \"Ginger Cake\", \"Green Tea Cake\", \"Eton Mess\", \"Coconut Pudding\",\n",
    "        \"Chocotorta\", \"Pineapple Cake\", \"Chocolate Covered Cherries\", \"Coconut Ice Cream\", \"Thai Sticky Rice with Mango\", \"Mochi Ice Cream\", \"Cotton Candy\", \"Lemon Cake\",\n",
    "        \"Rice Krispies Treats\", \"Apple Fritters\", \"Toffee Pudding\", \"Pineapple Tart\", \"Tart de Citron\", \"Vegan Brownies\", \"Custard Tart\", \"Chocolate Truffles\", \"Cinnamon Apples\",\n",
    "        \"Italian Ricotta Cheesecake\", \"Lemon Bars\", \"Chia Pudding\", \"Babka\", \"Raspberry Fool\", \"Churros con Chocolate\", \"Milk Cake\", \"Mango Pudding\", \"Mint Chocolate Chip Ice Cream\"\n",
    "    ]\n",
    "\n",
    "graph_undirected = generate_graph(min_nodes, 15, 7, 20, desserts)\n",
    "graph_directed = generate_graph(min_nodes, 15, 7, 20, desserts, True)"
   ]
  },
  {
   "cell_type": "code",
   "execution_count": 3,
   "metadata": {},
   "outputs": [
    {
     "data": {
      "text/plain": [
       "Node(Cinnamon Apples): {Node(Taffy): 1}\n",
       "Node(Gingerbread Cookies): {Node(Taffy): 1}\n",
       "Node(Churros con Chocolate): {Node(Taffy): 1, Node(French Toast): 1}\n",
       "Node(French Toast): {Node(Churros con Chocolate): 1}\n",
       "Node(Lemon Meringue Pie): {}\n",
       "Node(Creme Brulee): {Node(Taffy): 1, Node(Ginger Cake): 1}\n",
       "Node(Ginger Cake): {Node(Lemon Meringue Pie): 1}\n",
       "Node(Taffy): {Node(Churros con Chocolate): 1, Node(Gingerbread Cookies): 1, Node(Creme Brulee): 1, Node(Cinnamon Apples): 1}"
      ]
     },
     "execution_count": 3,
     "metadata": {},
     "output_type": "execute_result"
    }
   ],
   "source": [
    "graph_directed"
   ]
  },
  {
   "cell_type": "code",
   "execution_count": 4,
   "metadata": {},
   "outputs": [],
   "source": [
    "graph_directed.plot()"
   ]
  },
  {
   "cell_type": "code",
   "execution_count": null,
   "metadata": {},
   "outputs": [],
   "source": [
    "graph_undirected"
   ]
  },
  {
   "cell_type": "code",
   "execution_count": null,
   "metadata": {},
   "outputs": [],
   "source": [
    "graph_undirected.plot()"
   ]
  }
 ],
 "metadata": {
  "kernelspec": {
   "display_name": "graph_project_env",
   "language": "python",
   "name": "python3"
  },
  "language_info": {
   "codemirror_mode": {
    "name": "ipython",
    "version": 3
   },
   "file_extension": ".py",
   "mimetype": "text/x-python",
   "name": "python",
   "nbconvert_exporter": "python",
   "pygments_lexer": "ipython3",
   "version": "3.10.16"
  }
 },
 "nbformat": 4,
 "nbformat_minor": 2
}
