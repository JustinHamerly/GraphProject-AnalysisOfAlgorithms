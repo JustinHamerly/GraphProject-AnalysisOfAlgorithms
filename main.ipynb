{
 "cells": [
  {
   "cell_type": "code",
   "execution_count": 14,
   "metadata": {},
   "outputs": [],
   "source": [
    "from util.graph_generator import generate_graph"
   ]
  },
  {
   "cell_type": "code",
   "execution_count": 15,
   "metadata": {},
   "outputs": [],
   "source": [
    "min_nodes = 6\n",
    "min_edges = 7\n",
    "\n",
    "desserts = [\n",
    "        \"Tiramisu\", \"Baklava\", \"Churros\", \"Mochi\", \"Gulab Jamun\", \"Creme Brulee\", \"Pavlova\", \"Cheesecake\", \"Macarons\", \"Apple Pie\",\n",
    "        \"Flan\", \"Panna Cotta\", \"Cannoli\", \"Doughnuts\", \"Chocolate Lava Cake\", \"Strawberry Shortcake\", \"Sacher Torte\", \"Knafeh\", \"Profiteroles\", \"Lamington\",\n",
    "        \"Fudge\", \"Rice Pudding\", \"Coconut Macaroons\", \"Black Forest Cake\", \"Pineapple Upside-Down Cake\", \"Baked Alaska\", \"Banoffee Pie\", \"Tres Leches Cake\", \"Chocolat Viennois\",\n",
    "        \"Biscoff Cheesecake\", \"Zabaglione\", \"Sweetsop\", \"Palmiers\", \"Turkish Delight\", \"Marzipan\", \"Tarte Tatin\", \"Carrot Cake\", \"Scones\", \"Kardinalschnitten\",\n",
    "        \"Chocolates\", \"Lemon Meringue Pie\", \"Mille-feuille\", \"Semifreddo\", \"Chia Pudding\", \"Rugelach\", \"Pavlova\", \"Arroz con Leche\", \"Poffertjes\", \"Chocolate Eclairs\",\n",
    "        \"Lassi\", \"Mango Sticky Rice\", \"Chocolat Chaud\", \"Cinnamon Rolls\", \"Bavarian Cream\", \"Poached Pears in Red Wine\", \"Baked Donuts\", \"Chia Seed Pudding\", \"Kue Cubir\",\n",
    "        \"Macaroons\", \"Torte di Mele\", \"Banana Foster\", \"Alfajores\", \"Açai Bowl\", \"Raisin Cake\", \"Pumpkin Pie\", \"Nutella Crepes\", \"Rava Kesari\", \"Eton Mess\",\n",
    "        \"Cinnamon Sugar Pretzels\", \"Pineapple Cake\", \"Mont Blanc\", \"Trifle\", \"French Toast\", \"Kue Cubir\", \"Baklava\", \"Choco Pie\", \"Gâteau Basque\", \"Joffre\",\n",
    "        \"Turon\", \"Gingerbread Cookies\", \"Gâteau Saint-Honoré\", \"Churro Ice Cream Sandwich\", \"Crêpes Suzette\", \"Hazelnut Cake\", \"Clafoutis\", \"Tapioca Pudding\", \"Kue Cubir\",\n",
    "        \"Peach Cobbler\", \"Pav Bhaji\", \"Taffy\", \"Chocolate Soufflé\", \"Coconut Cake\", \"Streusel Cake\", \"Ginger Cake\", \"Green Tea Cake\", \"Eton Mess\", \"Coconut Pudding\",\n",
    "        \"Chocotorta\", \"Pineapple Cake\", \"Chocolate Covered Cherries\", \"Coconut Ice Cream\", \"Thai Sticky Rice with Mango\", \"Mochi Ice Cream\", \"Cotton Candy\", \"Lemon Cake\",\n",
    "        \"Rice Krispies Treats\", \"Apple Fritters\", \"Toffee Pudding\", \"Pineapple Tart\", \"Tart de Citron\", \"Vegan Brownies\", \"Custard Tart\", \"Chocolate Truffles\", \"Cinnamon Apples\",\n",
    "        \"Italian Ricotta Cheesecake\", \"Lemon Bars\", \"Chia Pudding\", \"Babka\", \"Raspberry Fool\", \"Churros con Chocolate\", \"Milk Cake\", \"Mango Pudding\", \"Mint Chocolate Chip Ice Cream\"\n",
    "    ]\n",
    "\n",
    "graph_undirected = generate_graph(min_nodes, 15, 7, 20, desserts)\n",
    "graph_directed = generate_graph(min_nodes, 15, 7, 20, desserts, True)"
   ]
  },
  {
   "cell_type": "code",
   "execution_count": 16,
   "metadata": {},
   "outputs": [
    {
     "data": {
      "text/plain": [
       "Node(Raspberry Fool): {}\n",
       "Node(Mango Sticky Rice): {Node(Churros con Chocolate): 1, Node(Toffee Pudding): 1, Node(Mint Chocolate Chip Ice Cream): 1}\n",
       "Node(Mint Chocolate Chip Ice Cream): {Node(Churros con Chocolate): 1, Node(Sacher Torte): 1, Node(Toffee Pudding): 1, Node(Torte di Mele): 1}\n",
       "Node(Churros con Chocolate): {Node(Mint Chocolate Chip Ice Cream): 1, Node(Mango Sticky Rice): 1}\n",
       "Node(Creme Brulee): {Node(Raspberry Fool): 1, Node(Churros con Chocolate): 1}\n",
       "Node(Toffee Pudding): {Node(Mint Chocolate Chip Ice Cream): 1, Node(Churros con Chocolate): 1, Node(Mango Sticky Rice): 1}\n",
       "Node(Sacher Torte): {Node(Creme Brulee): 1, Node(Profiteroles): 1}\n",
       "Node(Torte di Mele): {}\n",
       "Node(Profiteroles): {Node(Sacher Torte): 1}"
      ]
     },
     "execution_count": 16,
     "metadata": {},
     "output_type": "execute_result"
    }
   ],
   "source": [
    "graph_directed"
   ]
  },
  {
   "cell_type": "code",
   "execution_count": 17,
   "metadata": {},
   "outputs": [],
   "source": [
    "graph_directed.plot()"
   ]
  },
  {
   "cell_type": "code",
   "execution_count": 18,
   "metadata": {},
   "outputs": [
    {
     "data": {
      "text/plain": [
       "Node(Mango Sticky Rice): {Node(Chia Pudding): 1, Node(Sweetsop): 1}\n",
       "Node(Mint Chocolate Chip Ice Cream): {Node(Rugelach): 1, Node(Chia Pudding): 1}\n",
       "Node(Chia Pudding): {Node(Mango Sticky Rice): 1, Node(Rugelach): 1, Node(Raisin Cake): 1, Node(Mint Chocolate Chip Ice Cream): 1}\n",
       "Node(Raisin Cake): {Node(Chia Pudding): 1}\n",
       "Node(Kue Cubir): {Node(Sweetsop): 1}\n",
       "Node(Streusel Cake): {Node(Rugelach): 1}\n",
       "Node(Rugelach): {Node(Chia Pudding): 1, Node(Mint Chocolate Chip Ice Cream): 1, Node(Streusel Cake): 1}\n",
       "Node(Sweetsop): {Node(Mango Sticky Rice): 1, Node(Kue Cubir): 1, Node(Pavlova): 1}\n",
       "Node(Pavlova): {Node(Sweetsop): 1}"
      ]
     },
     "execution_count": 18,
     "metadata": {},
     "output_type": "execute_result"
    }
   ],
   "source": [
    "graph_undirected"
   ]
  },
  {
   "cell_type": "code",
   "execution_count": 19,
   "metadata": {},
   "outputs": [],
   "source": [
    "graph_undirected.plot()"
   ]
  }
 ],
 "metadata": {
  "kernelspec": {
   "display_name": "graph_project_env",
   "language": "python",
   "name": "python3"
  },
  "language_info": {
   "codemirror_mode": {
    "name": "ipython",
    "version": 3
   },
   "file_extension": ".py",
   "mimetype": "text/x-python",
   "name": "python",
   "nbconvert_exporter": "python",
   "pygments_lexer": "ipython3",
   "version": "3.10.16"
  }
 },
 "nbformat": 4,
 "nbformat_minor": 2
}
